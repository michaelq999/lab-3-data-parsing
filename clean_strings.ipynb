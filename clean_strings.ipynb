{
 "cells": [
  {
   "cell_type": "code",
   "execution_count": 10,
   "id": "d1e4026b",
   "metadata": {},
   "outputs": [],
   "source": [
    "import string\n",
    "import numpy as np\n",
    "import pandas as pd\n",
    "\n",
    "#Task A\n",
    "df_raw = pd.read_csv('C:/Users/Michael/Desktop/7.3riseDS/lab-3-data-parsing/messy_strings.csv')\n",
    "\n",
    "def clean_strings(strings):\n",
    "    \"\"\"Task B: Strips spaces, Lower-cases, Removes punctuation (!?,.;:), Drops empty entries\"\"\"\n",
    "\n",
    "    strings=strings.str.strip()\n",
    "    strings=strings.str.lower()\n",
    "    \n",
    "    strings=strings.str.replace(f\"[{string.punctuation}]\", \"\", regex=True)\n",
    "    strings = strings.replace('', np.nan) \n",
    "    strings=strings.dropna()\n",
    "    return strings\n",
    "\n",
    "#Task C\n",
    "df_raw['clean'] = clean_strings(df_raw['raw'])\n",
    "\n",
    "#Task D\n",
    "rows = len( df_raw['clean'])\n",
    "unique = df_raw['clean'].nunique()\n",
    "freq = df_raw['clean'].value_counts()\n",
    "\n",
    "#Task E\n",
    "df_raw['clean'].to_csv('C:/Users/Michael/Desktop/7.3riseDS/lab-3-data-parsing/messy_strings.csv', index=False)\n"
   ]
  }
 ],
 "metadata": {
  "kernelspec": {
   "display_name": "base",
   "language": "python",
   "name": "python3"
  },
  "language_info": {
   "codemirror_mode": {
    "name": "ipython",
    "version": 3
   },
   "file_extension": ".py",
   "mimetype": "text/x-python",
   "name": "python",
   "nbconvert_exporter": "python",
   "pygments_lexer": "ipython3",
   "version": "3.13.5"
  }
 },
 "nbformat": 4,
 "nbformat_minor": 5
}
